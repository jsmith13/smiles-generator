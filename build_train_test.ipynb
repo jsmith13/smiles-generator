{
 "cells": [
  {
   "cell_type": "markdown",
   "metadata": {},
   "source": [
    "Generate train, validation, and test sets from the molecule images. Construct X and Y matrices."
   ]
  },
  {
   "cell_type": "code",
   "execution_count": 1,
   "metadata": {
    "collapsed": true
   },
   "outputs": [
    {
     "name": "stderr",
     "output_type": "stream",
     "text": [
      "Using TensorFlow backend.\n",
      "/home/ubuntu/.local/lib/python3.6/site-packages/tensorflow/python/framework/dtypes.py:516: FutureWarning: Passing (type, 1) or '1type' as a synonym of type is deprecated; in a future version of numpy, it will be understood as (type, (1,)) / '(1,)type'.\n",
      "  _np_qint8 = np.dtype([(\"qint8\", np.int8, 1)])\n",
      "/home/ubuntu/.local/lib/python3.6/site-packages/tensorflow/python/framework/dtypes.py:517: FutureWarning: Passing (type, 1) or '1type' as a synonym of type is deprecated; in a future version of numpy, it will be understood as (type, (1,)) / '(1,)type'.\n",
      "  _np_quint8 = np.dtype([(\"quint8\", np.uint8, 1)])\n",
      "/home/ubuntu/.local/lib/python3.6/site-packages/tensorflow/python/framework/dtypes.py:518: FutureWarning: Passing (type, 1) or '1type' as a synonym of type is deprecated; in a future version of numpy, it will be understood as (type, (1,)) / '(1,)type'.\n",
      "  _np_qint16 = np.dtype([(\"qint16\", np.int16, 1)])\n",
      "/home/ubuntu/.local/lib/python3.6/site-packages/tensorflow/python/framework/dtypes.py:519: FutureWarning: Passing (type, 1) or '1type' as a synonym of type is deprecated; in a future version of numpy, it will be understood as (type, (1,)) / '(1,)type'.\n",
      "  _np_quint16 = np.dtype([(\"quint16\", np.uint16, 1)])\n",
      "/home/ubuntu/.local/lib/python3.6/site-packages/tensorflow/python/framework/dtypes.py:520: FutureWarning: Passing (type, 1) or '1type' as a synonym of type is deprecated; in a future version of numpy, it will be understood as (type, (1,)) / '(1,)type'.\n",
      "  _np_qint32 = np.dtype([(\"qint32\", np.int32, 1)])\n",
      "/home/ubuntu/.local/lib/python3.6/site-packages/tensorflow/python/framework/dtypes.py:525: FutureWarning: Passing (type, 1) or '1type' as a synonym of type is deprecated; in a future version of numpy, it will be understood as (type, (1,)) / '(1,)type'.\n",
      "  np_resource = np.dtype([(\"resource\", np.ubyte, 1)])\n",
      "/home/ubuntu/.local/lib/python3.6/site-packages/tensorboard/compat/tensorflow_stub/dtypes.py:541: FutureWarning: Passing (type, 1) or '1type' as a synonym of type is deprecated; in a future version of numpy, it will be understood as (type, (1,)) / '(1,)type'.\n",
      "  _np_qint8 = np.dtype([(\"qint8\", np.int8, 1)])\n",
      "/home/ubuntu/.local/lib/python3.6/site-packages/tensorboard/compat/tensorflow_stub/dtypes.py:542: FutureWarning: Passing (type, 1) or '1type' as a synonym of type is deprecated; in a future version of numpy, it will be understood as (type, (1,)) / '(1,)type'.\n",
      "  _np_quint8 = np.dtype([(\"quint8\", np.uint8, 1)])\n",
      "/home/ubuntu/.local/lib/python3.6/site-packages/tensorboard/compat/tensorflow_stub/dtypes.py:543: FutureWarning: Passing (type, 1) or '1type' as a synonym of type is deprecated; in a future version of numpy, it will be understood as (type, (1,)) / '(1,)type'.\n",
      "  _np_qint16 = np.dtype([(\"qint16\", np.int16, 1)])\n",
      "/home/ubuntu/.local/lib/python3.6/site-packages/tensorboard/compat/tensorflow_stub/dtypes.py:544: FutureWarning: Passing (type, 1) or '1type' as a synonym of type is deprecated; in a future version of numpy, it will be understood as (type, (1,)) / '(1,)type'.\n",
      "  _np_quint16 = np.dtype([(\"quint16\", np.uint16, 1)])\n",
      "/home/ubuntu/.local/lib/python3.6/site-packages/tensorboard/compat/tensorflow_stub/dtypes.py:545: FutureWarning: Passing (type, 1) or '1type' as a synonym of type is deprecated; in a future version of numpy, it will be understood as (type, (1,)) / '(1,)type'.\n",
      "  _np_qint32 = np.dtype([(\"qint32\", np.int32, 1)])\n",
      "/home/ubuntu/.local/lib/python3.6/site-packages/tensorboard/compat/tensorflow_stub/dtypes.py:550: FutureWarning: Passing (type, 1) or '1type' as a synonym of type is deprecated; in a future version of numpy, it will be understood as (type, (1,)) / '(1,)type'.\n",
      "  np_resource = np.dtype([(\"resource\", np.ubyte, 1)])\n"
     ]
    }
   ],
   "source": [
    "## setup cell\n",
    "# import required libraries\n",
    "import numpy as np\n",
    "import pandas as pd\n",
    "import csv\n",
    "import math\n",
    "import matplotlib.image as mpimg\n",
    "from sklearn import model_selection\n",
    "import keras\n",
    "\n",
    "# load the list of compounds and image conversion errors\n",
    "compounds = pd.read_csv(\"compounds.csv\")\n",
    "with open(\"errors.csv\", \"r\") as file:\n",
    "    errors = list(csv.reader(file))\n",
    "errors = list(map(int, errors[0]))\n",
    "\n",
    "# filter out the compounds that threw errors\n",
    "compounds = compounds.query(\"SubstanceID not in @ errors\")"
   ]
  },
  {
   "cell_type": "code",
   "execution_count": 5,
   "metadata": {},
   "outputs": [],
   "source": [
    "## test, train, validation, split\n",
    "# split 80/20 into train and test sets\n",
    "train, test = model_selection.train_test_split(compounds, test_size = 0.2, random_state = 1935235)\n",
    "\n",
    "# further sudivide training set into train and validation sets to give an 80/20/20 overall split\n",
    "train, validation = model_selection.train_test_split(train, test_size = 0.25, random_state = 358235)"
   ]
  },
  {
   "cell_type": "code",
   "execution_count": null,
   "metadata": {},
   "outputs": [],
   "source": [
    "## data generator to supply images to the neural network\n",
    "# declare a function molecule_image_generator\n",
    "# SubstanceIDs: a list of SubstanceIDs from which to draw batches\n",
    "# batch_size: the batch size\n",
    "# augment: a boolean flag indicating whether data augmentation should be applied\n",
    "# aug: a funtion responsible for data augmentation\n",
    "\n",
    "def molecule_image_generator(SubstanceIDs, batch_size, augment = True, aug = None):\n",
    "    # calculate the maximum number of batches from one iteration of SubstanceIDs\n",
    "    max_batches = math.floor(len(SubstanceIDs) / batch_size)\n",
    "\n",
    "    # declare a counter to track current batch\n",
    "    batch = 0\n",
    "    \n",
    "    # loop through batches indefinitely\n",
    "    while True:                \n",
    "        # declare an empty array to hold the data with shape batch_size, xpixels, ypixels, channels\n",
    "        X = np.empty([batch_size, 300, 300, 1], dtype = \"int8\")\n",
    "        \n",
    "        # determine which images to place in this batch\n",
    "        # take batch_size observations if possible\n",
    "        if batch < max_batches:\n",
    "            batch_start = batch * batch_size\n",
    "            batch_end = batch * batch_size + batch_size\n",
    "            batch += 1\n",
    "        # otherwise take as many observations as possible \n",
    "        else:\n",
    "            batch_start = batch * batch_size\n",
    "            batch_end = batch * batch_size + (len(SubstanceIDs) % batch_size)\n",
    "            batch = 0\n",
    "        \n",
    "        # generate a batch of images (X)\n",
    "        for i in range(batch_start, batch_end):\n",
    "            # import each image into X_train; augment with a single channel dimension\n",
    "            X[i, :, :, 0] = mpimg.imread(\"./molecule_drawings/\" + SubstanceIDs[i] + \".png\")\n",
    "        \n",
    "        # generate the corresponding batch of encoded SMILES strings (Y)\n",
    "        for i in range(batch_start, batch_end):\n",
    "            \n",
    "        \n",
    "        # yield the batch of images\n",
    "        yield(X, Y)"
   ]
  },
  {
   "cell_type": "code",
   "execution_count": null,
   "metadata": {},
   "outputs": [],
   "source": []
  }
 ],
 "metadata": {
  "kernelspec": {
   "display_name": "Python 3",
   "language": "python",
   "name": "python3"
  },
  "language_info": {
   "codemirror_mode": {
    "name": "ipython",
    "version": 3
   },
   "file_extension": ".py",
   "mimetype": "text/x-python",
   "name": "python",
   "nbconvert_exporter": "python",
   "pygments_lexer": "ipython3",
   "version": "3.6.8"
  }
 },
 "nbformat": 4,
 "nbformat_minor": 2
}
